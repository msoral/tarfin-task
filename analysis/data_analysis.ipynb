{
 "cells": [
  {
   "cell_type": "code",
   "execution_count": 2,
   "id": "instructional-worth",
   "metadata": {},
   "outputs": [],
   "source": [
    "import numpy as np\n",
    "import pandas as pd\n",
    "import matplotlib.pyplot as plt\n",
    "import seaborn as sns\n",
    "import os"
   ]
  },
  {
   "cell_type": "code",
   "execution_count": 3,
   "id": "retired-handle",
   "metadata": {},
   "outputs": [
    {
     "name": "stdout",
     "output_type": "stream",
     "text": [
      "cs-test.csv\n",
      "cs-training.csv\n",
      "Data Dictionary.xls\n",
      "impute.p\n",
      "preprocessed.csv\n",
      "sampleEntry.csv\n"
     ]
    }
   ],
   "source": [
    "# Check if the files are present in the path\n",
    "file_list = os.listdir(\"data\")\n",
    "for filename in file_list:\n",
    "    print(filename)"
   ]
  },
  {
   "cell_type": "code",
   "execution_count": 4,
   "id": "collect-principle",
   "metadata": {
    "scrolled": true
   },
   "outputs": [
    {
     "data": {
      "text/html": [
       "<div>\n",
       "<style scoped>\n",
       "    .dataframe tbody tr th:only-of-type {\n",
       "        vertical-align: middle;\n",
       "    }\n",
       "\n",
       "    .dataframe tbody tr th {\n",
       "        vertical-align: top;\n",
       "    }\n",
       "\n",
       "    .dataframe thead th {\n",
       "        text-align: right;\n",
       "    }\n",
       "</style>\n",
       "<table border=\"1\" class=\"dataframe\">\n",
       "  <thead>\n",
       "    <tr style=\"text-align: right;\">\n",
       "      <th></th>\n",
       "      <th>SeriousDlqin2yrs</th>\n",
       "      <th>RevolvingUtilizationOfUnsecuredLines</th>\n",
       "      <th>age</th>\n",
       "      <th>NumberOfTime30-59DaysPastDueNotWorse</th>\n",
       "      <th>DebtRatio</th>\n",
       "      <th>MonthlyIncome</th>\n",
       "      <th>NumberOfOpenCreditLinesAndLoans</th>\n",
       "      <th>NumberOfTimes90DaysLate</th>\n",
       "      <th>NumberRealEstateLoansOrLines</th>\n",
       "      <th>NumberOfTime60-89DaysPastDueNotWorse</th>\n",
       "      <th>NumberOfDependents</th>\n",
       "    </tr>\n",
       "  </thead>\n",
       "  <tbody>\n",
       "    <tr>\n",
       "      <th>1</th>\n",
       "      <td>1</td>\n",
       "      <td>0.766127</td>\n",
       "      <td>45</td>\n",
       "      <td>2</td>\n",
       "      <td>0.802982</td>\n",
       "      <td>9120.0</td>\n",
       "      <td>13</td>\n",
       "      <td>0</td>\n",
       "      <td>6</td>\n",
       "      <td>0</td>\n",
       "      <td>2.0</td>\n",
       "    </tr>\n",
       "    <tr>\n",
       "      <th>2</th>\n",
       "      <td>0</td>\n",
       "      <td>0.957151</td>\n",
       "      <td>40</td>\n",
       "      <td>0</td>\n",
       "      <td>0.121876</td>\n",
       "      <td>2600.0</td>\n",
       "      <td>4</td>\n",
       "      <td>0</td>\n",
       "      <td>0</td>\n",
       "      <td>0</td>\n",
       "      <td>1.0</td>\n",
       "    </tr>\n",
       "    <tr>\n",
       "      <th>3</th>\n",
       "      <td>0</td>\n",
       "      <td>0.658180</td>\n",
       "      <td>38</td>\n",
       "      <td>1</td>\n",
       "      <td>0.085113</td>\n",
       "      <td>3042.0</td>\n",
       "      <td>2</td>\n",
       "      <td>1</td>\n",
       "      <td>0</td>\n",
       "      <td>0</td>\n",
       "      <td>0.0</td>\n",
       "    </tr>\n",
       "    <tr>\n",
       "      <th>4</th>\n",
       "      <td>0</td>\n",
       "      <td>0.233810</td>\n",
       "      <td>30</td>\n",
       "      <td>0</td>\n",
       "      <td>0.036050</td>\n",
       "      <td>3300.0</td>\n",
       "      <td>5</td>\n",
       "      <td>0</td>\n",
       "      <td>0</td>\n",
       "      <td>0</td>\n",
       "      <td>0.0</td>\n",
       "    </tr>\n",
       "    <tr>\n",
       "      <th>5</th>\n",
       "      <td>0</td>\n",
       "      <td>0.907239</td>\n",
       "      <td>49</td>\n",
       "      <td>1</td>\n",
       "      <td>0.024926</td>\n",
       "      <td>63588.0</td>\n",
       "      <td>7</td>\n",
       "      <td>0</td>\n",
       "      <td>1</td>\n",
       "      <td>0</td>\n",
       "      <td>0.0</td>\n",
       "    </tr>\n",
       "  </tbody>\n",
       "</table>\n",
       "</div>"
      ],
      "text/plain": [
       "   SeriousDlqin2yrs  RevolvingUtilizationOfUnsecuredLines  age  \\\n",
       "1                 1                              0.766127   45   \n",
       "2                 0                              0.957151   40   \n",
       "3                 0                              0.658180   38   \n",
       "4                 0                              0.233810   30   \n",
       "5                 0                              0.907239   49   \n",
       "\n",
       "   NumberOfTime30-59DaysPastDueNotWorse  DebtRatio  MonthlyIncome  \\\n",
       "1                                     2   0.802982         9120.0   \n",
       "2                                     0   0.121876         2600.0   \n",
       "3                                     1   0.085113         3042.0   \n",
       "4                                     0   0.036050         3300.0   \n",
       "5                                     1   0.024926        63588.0   \n",
       "\n",
       "   NumberOfOpenCreditLinesAndLoans  NumberOfTimes90DaysLate  \\\n",
       "1                               13                        0   \n",
       "2                                4                        0   \n",
       "3                                2                        1   \n",
       "4                                5                        0   \n",
       "5                                7                        0   \n",
       "\n",
       "   NumberRealEstateLoansOrLines  NumberOfTime60-89DaysPastDueNotWorse  \\\n",
       "1                             6                                     0   \n",
       "2                             0                                     0   \n",
       "3                             0                                     0   \n",
       "4                             0                                     0   \n",
       "5                             1                                     0   \n",
       "\n",
       "   NumberOfDependents  \n",
       "1                 2.0  \n",
       "2                 1.0  \n",
       "3                 0.0  \n",
       "4                 0.0  \n",
       "5                 0.0  "
      ]
     },
     "execution_count": 4,
     "metadata": {},
     "output_type": "execute_result"
    }
   ],
   "source": [
    "df = pd.read_csv(\"data/cs-training.csv\", index_col = 0)\n",
    "df.head()"
   ]
  },
  {
   "cell_type": "markdown",
   "id": "figured-clark",
   "metadata": {},
   "source": [
    "## Data Analysis"
   ]
  },
  {
   "cell_type": "code",
   "execution_count": 5,
   "id": "vertical-printing",
   "metadata": {},
   "outputs": [
    {
     "data": {
      "text/html": [
       "<div>\n",
       "<style scoped>\n",
       "    .dataframe tbody tr th:only-of-type {\n",
       "        vertical-align: middle;\n",
       "    }\n",
       "\n",
       "    .dataframe tbody tr th {\n",
       "        vertical-align: top;\n",
       "    }\n",
       "\n",
       "    .dataframe thead th {\n",
       "        text-align: right;\n",
       "    }\n",
       "</style>\n",
       "<table border=\"1\" class=\"dataframe\">\n",
       "  <thead>\n",
       "    <tr style=\"text-align: right;\">\n",
       "      <th></th>\n",
       "      <th>Column</th>\n",
       "      <th># of Null Values</th>\n",
       "      <th>Proportion</th>\n",
       "    </tr>\n",
       "  </thead>\n",
       "  <tbody>\n",
       "    <tr>\n",
       "      <th>0</th>\n",
       "      <td>SeriousDlqin2yrs</td>\n",
       "      <td>0</td>\n",
       "      <td>0.000000</td>\n",
       "    </tr>\n",
       "    <tr>\n",
       "      <th>1</th>\n",
       "      <td>RevolvingUtilizationOfUnsecuredLines</td>\n",
       "      <td>0</td>\n",
       "      <td>0.000000</td>\n",
       "    </tr>\n",
       "    <tr>\n",
       "      <th>2</th>\n",
       "      <td>age</td>\n",
       "      <td>0</td>\n",
       "      <td>0.000000</td>\n",
       "    </tr>\n",
       "    <tr>\n",
       "      <th>3</th>\n",
       "      <td>NumberOfTime30-59DaysPastDueNotWorse</td>\n",
       "      <td>0</td>\n",
       "      <td>0.000000</td>\n",
       "    </tr>\n",
       "    <tr>\n",
       "      <th>4</th>\n",
       "      <td>DebtRatio</td>\n",
       "      <td>0</td>\n",
       "      <td>0.000000</td>\n",
       "    </tr>\n",
       "    <tr>\n",
       "      <th>5</th>\n",
       "      <td>MonthlyIncome</td>\n",
       "      <td>29731</td>\n",
       "      <td>0.198207</td>\n",
       "    </tr>\n",
       "    <tr>\n",
       "      <th>6</th>\n",
       "      <td>NumberOfOpenCreditLinesAndLoans</td>\n",
       "      <td>0</td>\n",
       "      <td>0.000000</td>\n",
       "    </tr>\n",
       "    <tr>\n",
       "      <th>7</th>\n",
       "      <td>NumberOfTimes90DaysLate</td>\n",
       "      <td>0</td>\n",
       "      <td>0.000000</td>\n",
       "    </tr>\n",
       "    <tr>\n",
       "      <th>8</th>\n",
       "      <td>NumberRealEstateLoansOrLines</td>\n",
       "      <td>0</td>\n",
       "      <td>0.000000</td>\n",
       "    </tr>\n",
       "    <tr>\n",
       "      <th>9</th>\n",
       "      <td>NumberOfTime60-89DaysPastDueNotWorse</td>\n",
       "      <td>0</td>\n",
       "      <td>0.000000</td>\n",
       "    </tr>\n",
       "    <tr>\n",
       "      <th>10</th>\n",
       "      <td>NumberOfDependents</td>\n",
       "      <td>3924</td>\n",
       "      <td>0.026160</td>\n",
       "    </tr>\n",
       "  </tbody>\n",
       "</table>\n",
       "</div>"
      ],
      "text/plain": [
       "                                  Column  # of Null Values  Proportion\n",
       "0                       SeriousDlqin2yrs                 0    0.000000\n",
       "1   RevolvingUtilizationOfUnsecuredLines                 0    0.000000\n",
       "2                                    age                 0    0.000000\n",
       "3   NumberOfTime30-59DaysPastDueNotWorse                 0    0.000000\n",
       "4                              DebtRatio                 0    0.000000\n",
       "5                          MonthlyIncome             29731    0.198207\n",
       "6        NumberOfOpenCreditLinesAndLoans                 0    0.000000\n",
       "7                NumberOfTimes90DaysLate                 0    0.000000\n",
       "8           NumberRealEstateLoansOrLines                 0    0.000000\n",
       "9   NumberOfTime60-89DaysPastDueNotWorse                 0    0.000000\n",
       "10                    NumberOfDependents              3924    0.026160"
      ]
     },
     "execution_count": 5,
     "metadata": {},
     "output_type": "execute_result"
    }
   ],
   "source": [
    "# Show null values and their proportions\n",
    "null_val_sums = df.isnull().sum()\n",
    "pd.DataFrame({\"Column\": null_val_sums.index, \"# of Null Values\": null_val_sums.values,\n",
    "             \"Proportion\": null_val_sums.values / len(df)})"
   ]
  },
  {
   "cell_type": "code",
   "execution_count": 6,
   "id": "agreed-bedroom",
   "metadata": {},
   "outputs": [
    {
     "data": {
      "text/plain": [
       "count    150000.000000\n",
       "mean         52.295207\n",
       "std          14.771866\n",
       "min           0.000000\n",
       "25%          41.000000\n",
       "50%          52.000000\n",
       "75%          63.000000\n",
       "max         109.000000\n",
       "Name: age, dtype: float64"
      ]
     },
     "execution_count": 6,
     "metadata": {},
     "output_type": "execute_result"
    }
   ],
   "source": [
    "df.age.describe()"
   ]
  },
  {
   "cell_type": "code",
   "execution_count": 7,
   "id": "previous-conspiracy",
   "metadata": {},
   "outputs": [
    {
     "data": {
      "text/plain": [
       "<AxesSubplot:xlabel='age', ylabel='Count'>"
      ]
     },
     "execution_count": 7,
     "metadata": {},
     "output_type": "execute_result"
    },
    {
     "data": {
      "image/png": "[encoded data removed]",
      "text/plain": [
       "<Figure size 432x288 with 1 Axes>"
      ]
     },
     "metadata": {
      "needs_background": "light"
     },
     "output_type": "display_data"
    }
   ],
   "source": [
    "sns.histplot(df[\"age\"])\n"
   ]
  },
  {
   "cell_type": "code",
   "execution_count": 8,
   "id": "exposed-clark",
   "metadata": {},
   "outputs": [
    {
     "data": {
      "text/plain": [
       "<AxesSubplot:xlabel='age', ylabel='Count'>"
      ]
     },
     "execution_count": 8,
     "metadata": {},
     "output_type": "execute_result"
    },
    {
     "data": {
      "image/png": "[encoded data removed]",
      "text/plain": [
       "<Figure size 432x288 with 1 Axes>"
      ]
     },
     "metadata": {
      "needs_background": "light"
     },
     "output_type": "display_data"
    }
   ],
   "source": [
    "sns.histplot(df.loc[df[\"SeriousDlqin2yrs\"] == 0][\"age\"])"
   ]
  },
  {
   "cell_type": "code",
   "execution_count": 9,
   "id": "acknowledged-colonial",
   "metadata": {},
   "outputs": [
    {
     "data": {
      "text/plain": [
       "<AxesSubplot:xlabel='age', ylabel='Count'>"
      ]
     },
     "execution_count": 9,
     "metadata": {},
     "output_type": "execute_result"
    },
    {
     "data": {
      "image/png": "[encoded data removed]",
      "text/plain": [
       "<Figure size 432x288 with 1 Axes>"
      ]
     },
     "metadata": {
      "needs_background": "light"
     },
     "output_type": "display_data"
    }
   ],
   "source": [
    "sns.histplot(df.loc[df[\"SeriousDlqin2yrs\"] == 1][\"age\"])"
   ]
  },
  {
   "cell_type": "code",
   "execution_count": 10,
   "id": "identified-bunch",
   "metadata": {},
   "outputs": [
    {
     "name": "stdout",
     "output_type": "stream",
     "text": [
      "0    139974\n",
      "1     10026\n",
      "Name: SeriousDlqin2yrs, dtype: int64\n"
     ]
    }
   ],
   "source": [
    "print(df[\"SeriousDlqin2yrs\"].value_counts())"
   ]
  },
  {
   "cell_type": "code",
   "execution_count": 11,
   "id": "about-kingdom",
   "metadata": {},
   "outputs": [
    {
     "name": "stdout",
     "output_type": "stream",
     "text": [
      "Proportion of people who defaulted: 0.06684\n"
     ]
    },
    {
     "data": {
      "image/png": "[encoded data removed]",
      "text/plain": [
       "<Figure size 432x288 with 1 Axes>"
      ]
     },
     "metadata": {
      "needs_background": "light"
     },
     "output_type": "display_data"
    }
   ],
   "source": [
    "sns.countplot(x=\"SeriousDlqin2yrs\", data=df)\n",
    "print(f\"Proportion of people who defaulted: {df['SeriousDlqin2yrs'].sum() / len(df)}\")"
   ]
  },
  {
   "cell_type": "code",
   "execution_count": 12,
   "id": "urban-ownership",
   "metadata": {
    "scrolled": true
   },
   "outputs": [
    {
     "data": {
      "text/plain": [
       "count    150000.000000\n",
       "mean          6.048438\n",
       "std         249.755371\n",
       "min           0.000000\n",
       "25%           0.029867\n",
       "50%           0.154181\n",
       "75%           0.559046\n",
       "max       50708.000000\n",
       "Name: RevolvingUtilizationOfUnsecuredLines, dtype: float64"
      ]
     },
     "execution_count": 12,
     "metadata": {},
     "output_type": "execute_result"
    }
   ],
   "source": [
    "df[\"RevolvingUtilizationOfUnsecuredLines\"].describe()"
   ]
  },
  {
   "cell_type": "code",
   "execution_count": 13,
   "id": "caroline-courage",
   "metadata": {},
   "outputs": [
    {
     "data": {
      "text/plain": [
       "Text(0.5, 1.0, 'Proportion of Defaulters As Minimum RUUL Increases')"
      ]
     },
     "execution_count": 13,
     "metadata": {},
     "output_type": "execute_result"
    },
    {
     "data": {
      "image/png": "[encoded data removed]",
      "text/plain": [
       "<Figure size 432x288 with 1 Axes>"
      ]
     },
     "metadata": {
      "needs_background": "light"
     },
     "output_type": "display_data"
    }
   ],
   "source": [
    "default_prop = []\n",
    "for i in range(int(df[\"RevolvingUtilizationOfUnsecuredLines\"].max())):\n",
    "    temp_ = df.loc[df[\"RevolvingUtilizationOfUnsecuredLines\"] >= i]\n",
    "    default_prop.append([i, temp_[\"SeriousDlqin2yrs\"].mean()])\n",
    "    \n",
    "sns.lineplot(x=[i[0] for i in default_prop], y=[i[1] for i in default_prop])\n",
    "plt.title(\"Proportion of Defaulters As Minimum RUUL Increases\")"
   ]
  },
  {
   "cell_type": "code",
   "execution_count": 14,
   "id": "operational-paper",
   "metadata": {},
   "outputs": [
    {
     "name": "stdout",
     "output_type": "stream",
     "text": [
      "Proportion of those under the credit limit: 0.05991996127598361\n",
      "Proportion of those who are under the credit limit or exceeds up to 13 times credit limit: 0.06685273968029273\n"
     ]
    }
   ],
   "source": [
    "# Find the proportion of defaulters whose debt does not exceed total credit limit.\n",
    "defaulter = df.loc[df[\"RevolvingUtilizationOfUnsecuredLines\"] <= 1][\"SeriousDlqin2yrs\"].mean()\n",
    "print(f\"Proportion of those under the credit limit: {defaulter}\")\n",
    "defaulter_13 = df.loc[df[\"RevolvingUtilizationOfUnsecuredLines\"] <= 13][\"SeriousDlqin2yrs\"].mean()\n",
    "print(f\"Proportion of those who are under the credit limit or exceeds up to 13 times credit limit: {defaulter_13}\")\n",
    "\n"
   ]
  },
  {
   "cell_type": "markdown",
   "id": "buried-nitrogen",
   "metadata": {},
   "source": [
    "#### Late Payments"
   ]
  },
  {
   "cell_type": "code",
   "execution_count": 15,
   "id": "textile-control",
   "metadata": {},
   "outputs": [
    {
     "name": "stdout",
     "output_type": "stream",
     "text": [
      "0     126018\n",
      "1      16033\n",
      "2       4598\n",
      "3       1754\n",
      "4        747\n",
      "5        342\n",
      "6        140\n",
      "7         54\n",
      "8         25\n",
      "9         12\n",
      "10         4\n",
      "11         1\n",
      "12         2\n",
      "13         1\n",
      "96         5\n",
      "98       264\n",
      "Name: NumberOfTime30-59DaysPastDueNotWorse, dtype: int64\n",
      "0     142396\n",
      "1       5731\n",
      "2       1118\n",
      "3        318\n",
      "4        105\n",
      "5         34\n",
      "6         16\n",
      "7          9\n",
      "8          2\n",
      "9          1\n",
      "11         1\n",
      "96         5\n",
      "98       264\n",
      "Name: NumberOfTime60-89DaysPastDueNotWorse, dtype: int64\n",
      "0     141662\n",
      "1       5243\n",
      "2       1555\n",
      "3        667\n",
      "4        291\n",
      "5        131\n",
      "6         80\n",
      "7         38\n",
      "8         21\n",
      "9         19\n",
      "10         8\n",
      "11         5\n",
      "12         2\n",
      "13         4\n",
      "14         2\n",
      "15         2\n",
      "17         1\n",
      "96         5\n",
      "98       264\n",
      "Name: NumberOfTimes90DaysLate, dtype: int64\n"
     ]
    }
   ],
   "source": [
    "print(df[\"NumberOfTime30-59DaysPastDueNotWorse\"].value_counts().sort_index())\n",
    "print(df[\"NumberOfTime60-89DaysPastDueNotWorse\"].value_counts().sort_index())\n",
    "print(df[\"NumberOfTimes90DaysLate\"].value_counts().sort_index())"
   ]
  },
  {
   "cell_type": "code",
   "execution_count": 16,
   "id": "capable-principle",
   "metadata": {},
   "outputs": [
    {
     "data": {
      "text/html": [
       "<div>\n",
       "<style scoped>\n",
       "    .dataframe tbody tr th:only-of-type {\n",
       "        vertical-align: middle;\n",
       "    }\n",
       "\n",
       "    .dataframe tbody tr th {\n",
       "        vertical-align: top;\n",
       "    }\n",
       "\n",
       "    .dataframe thead th {\n",
       "        text-align: right;\n",
       "    }\n",
       "</style>\n",
       "<table border=\"1\" class=\"dataframe\">\n",
       "  <thead>\n",
       "    <tr style=\"text-align: right;\">\n",
       "      <th></th>\n",
       "      <th>NumberOfTimes90DaysLate</th>\n",
       "      <th>NumberOfTime60-89DaysPastDueNotWorse</th>\n",
       "      <th>NumberOfTime30-59DaysPastDueNotWorse</th>\n",
       "    </tr>\n",
       "  </thead>\n",
       "  <tbody>\n",
       "    <tr>\n",
       "      <th>count</th>\n",
       "      <td>269.000000</td>\n",
       "      <td>269.000000</td>\n",
       "      <td>269.000000</td>\n",
       "    </tr>\n",
       "    <tr>\n",
       "      <th>mean</th>\n",
       "      <td>97.962825</td>\n",
       "      <td>97.962825</td>\n",
       "      <td>97.962825</td>\n",
       "    </tr>\n",
       "    <tr>\n",
       "      <th>std</th>\n",
       "      <td>0.270628</td>\n",
       "      <td>0.270628</td>\n",
       "      <td>0.270628</td>\n",
       "    </tr>\n",
       "    <tr>\n",
       "      <th>min</th>\n",
       "      <td>96.000000</td>\n",
       "      <td>96.000000</td>\n",
       "      <td>96.000000</td>\n",
       "    </tr>\n",
       "    <tr>\n",
       "      <th>25%</th>\n",
       "      <td>98.000000</td>\n",
       "      <td>98.000000</td>\n",
       "      <td>98.000000</td>\n",
       "    </tr>\n",
       "    <tr>\n",
       "      <th>50%</th>\n",
       "      <td>98.000000</td>\n",
       "      <td>98.000000</td>\n",
       "      <td>98.000000</td>\n",
       "    </tr>\n",
       "    <tr>\n",
       "      <th>75%</th>\n",
       "      <td>98.000000</td>\n",
       "      <td>98.000000</td>\n",
       "      <td>98.000000</td>\n",
       "    </tr>\n",
       "    <tr>\n",
       "      <th>max</th>\n",
       "      <td>98.000000</td>\n",
       "      <td>98.000000</td>\n",
       "      <td>98.000000</td>\n",
       "    </tr>\n",
       "  </tbody>\n",
       "</table>\n",
       "</div>"
      ],
      "text/plain": [
       "       NumberOfTimes90DaysLate  NumberOfTime60-89DaysPastDueNotWorse  \\\n",
       "count               269.000000                            269.000000   \n",
       "mean                 97.962825                             97.962825   \n",
       "std                   0.270628                              0.270628   \n",
       "min                  96.000000                             96.000000   \n",
       "25%                  98.000000                             98.000000   \n",
       "50%                  98.000000                             98.000000   \n",
       "75%                  98.000000                             98.000000   \n",
       "max                  98.000000                             98.000000   \n",
       "\n",
       "       NumberOfTime30-59DaysPastDueNotWorse  \n",
       "count                            269.000000  \n",
       "mean                              97.962825  \n",
       "std                                0.270628  \n",
       "min                               96.000000  \n",
       "25%                               98.000000  \n",
       "50%                               98.000000  \n",
       "75%                               98.000000  \n",
       "max                               98.000000  "
      ]
     },
     "execution_count": 16,
     "metadata": {},
     "output_type": "execute_result"
    }
   ],
   "source": [
    "late_columns = [\"NumberOfTimes90DaysLate\", \"NumberOfTime60-89DaysPastDueNotWorse\",\n",
    "                \"NumberOfTime30-59DaysPastDueNotWorse\"]\n",
    "df.loc[df[\"NumberOfTimes90DaysLate\"] > 17][late_columns].describe()"
   ]
  },
  {
   "cell_type": "markdown",
   "id": "inner-rolling",
   "metadata": {},
   "source": [
    "#### Debt Ratio"
   ]
  },
  {
   "cell_type": "code",
   "execution_count": 17,
   "id": "banned-bible",
   "metadata": {},
   "outputs": [
    {
     "data": {
      "text/plain": [
       "count    150000.000000\n",
       "mean        353.005076\n",
       "std        2037.818523\n",
       "min           0.000000\n",
       "25%           0.175074\n",
       "50%           0.366508\n",
       "75%           0.868254\n",
       "max      329664.000000\n",
       "Name: DebtRatio, dtype: float64"
      ]
     },
     "execution_count": 17,
     "metadata": {},
     "output_type": "execute_result"
    }
   ],
   "source": [
    "df[\"DebtRatio\"].describe()"
   ]
  },
  {
   "cell_type": "code",
   "execution_count": 35,
   "id": "fifty-mississippi",
   "metadata": {},
   "outputs": [
    {
     "data": {
      "text/plain": [
       "2449.0"
      ]
     },
     "execution_count": 35,
     "metadata": {},
     "output_type": "execute_result"
    }
   ],
   "source": [
    "df[\"DebtRatio\"].quantile(0.95)"
   ]
  },
  {
   "cell_type": "code",
   "execution_count": 30,
   "id": "convenient-somerset",
   "metadata": {},
   "outputs": [
    {
     "data": {
      "text/html": [
       "<div>\n",
       "<style scoped>\n",
       "    .dataframe tbody tr th:only-of-type {\n",
       "        vertical-align: middle;\n",
       "    }\n",
       "\n",
       "    .dataframe tbody tr th {\n",
       "        vertical-align: top;\n",
       "    }\n",
       "\n",
       "    .dataframe thead th {\n",
       "        text-align: right;\n",
       "    }\n",
       "</style>\n",
       "<table border=\"1\" class=\"dataframe\">\n",
       "  <thead>\n",
       "    <tr style=\"text-align: right;\">\n",
       "      <th></th>\n",
       "      <th>DebtRatio</th>\n",
       "      <th>MonthlyIncome</th>\n",
       "      <th>SeriousDlqin2yrs</th>\n",
       "    </tr>\n",
       "  </thead>\n",
       "  <tbody>\n",
       "    <tr>\n",
       "      <th>count</th>\n",
       "      <td>7494.000000</td>\n",
       "      <td>379.000000</td>\n",
       "      <td>7494.000000</td>\n",
       "    </tr>\n",
       "    <tr>\n",
       "      <th>mean</th>\n",
       "      <td>4417.958367</td>\n",
       "      <td>0.084433</td>\n",
       "      <td>0.055111</td>\n",
       "    </tr>\n",
       "    <tr>\n",
       "      <th>std</th>\n",
       "      <td>7875.314649</td>\n",
       "      <td>0.278403</td>\n",
       "      <td>0.228212</td>\n",
       "    </tr>\n",
       "    <tr>\n",
       "      <th>min</th>\n",
       "      <td>2450.000000</td>\n",
       "      <td>0.000000</td>\n",
       "      <td>0.000000</td>\n",
       "    </tr>\n",
       "    <tr>\n",
       "      <th>25%</th>\n",
       "      <td>2893.250000</td>\n",
       "      <td>0.000000</td>\n",
       "      <td>0.000000</td>\n",
       "    </tr>\n",
       "    <tr>\n",
       "      <th>50%</th>\n",
       "      <td>3491.000000</td>\n",
       "      <td>0.000000</td>\n",
       "      <td>0.000000</td>\n",
       "    </tr>\n",
       "    <tr>\n",
       "      <th>75%</th>\n",
       "      <td>4620.000000</td>\n",
       "      <td>0.000000</td>\n",
       "      <td>0.000000</td>\n",
       "    </tr>\n",
       "    <tr>\n",
       "      <th>max</th>\n",
       "      <td>329664.000000</td>\n",
       "      <td>1.000000</td>\n",
       "      <td>1.000000</td>\n",
       "    </tr>\n",
       "  </tbody>\n",
       "</table>\n",
       "</div>"
      ],
      "text/plain": [
       "           DebtRatio  MonthlyIncome  SeriousDlqin2yrs\n",
       "count    7494.000000     379.000000       7494.000000\n",
       "mean     4417.958367       0.084433          0.055111\n",
       "std      7875.314649       0.278403          0.228212\n",
       "min      2450.000000       0.000000          0.000000\n",
       "25%      2893.250000       0.000000          0.000000\n",
       "50%      3491.000000       0.000000          0.000000\n",
       "75%      4620.000000       0.000000          0.000000\n",
       "max    329664.000000       1.000000          1.000000"
      ]
     },
     "execution_count": 30,
     "metadata": {},
     "output_type": "execute_result"
    }
   ],
   "source": [
    "df.loc[df[\"DebtRatio\"] > df[\"DebtRatio\"].quantile(0.95)][[\"DebtRatio\", \"MonthlyIncome\", \"SeriousDlqin2yrs\"]].describe()"
   ]
  },
  {
   "cell_type": "code",
   "execution_count": 31,
   "id": "hearing-parts",
   "metadata": {},
   "outputs": [
    {
     "data": {
      "text/plain": [
       "331"
      ]
     },
     "execution_count": 31,
     "metadata": {},
     "output_type": "execute_result"
    }
   ],
   "source": [
    "len(df[(df[\"DebtRatio\"] > df[\"DebtRatio\"].quantile(0.95)) & (df['SeriousDlqin2yrs'] == df['MonthlyIncome'])])"
   ]
  },
  {
   "cell_type": "code",
   "execution_count": 34,
   "id": "sweet-belly",
   "metadata": {},
   "outputs": [
    {
     "data": {
      "text/plain": [
       "3489.024999999994"
      ]
     },
     "execution_count": 34,
     "metadata": {},
     "output_type": "execute_result"
    }
   ],
   "source": [
    "df[\"DebtRatio\"].quantile(0.975)"
   ]
  },
  {
   "cell_type": "code",
   "execution_count": 32,
   "id": "nasty-enhancement",
   "metadata": {},
   "outputs": [
    {
     "data": {
      "text/html": [
       "<div>\n",
       "<style scoped>\n",
       "    .dataframe tbody tr th:only-of-type {\n",
       "        vertical-align: middle;\n",
       "    }\n",
       "\n",
       "    .dataframe tbody tr th {\n",
       "        vertical-align: top;\n",
       "    }\n",
       "\n",
       "    .dataframe thead th {\n",
       "        text-align: right;\n",
       "    }\n",
       "</style>\n",
       "<table border=\"1\" class=\"dataframe\">\n",
       "  <thead>\n",
       "    <tr style=\"text-align: right;\">\n",
       "      <th></th>\n",
       "      <th>DebtRatio</th>\n",
       "      <th>MonthlyIncome</th>\n",
       "      <th>SeriousDlqin2yrs</th>\n",
       "    </tr>\n",
       "  </thead>\n",
       "  <tbody>\n",
       "    <tr>\n",
       "      <th>count</th>\n",
       "      <td>3750.000000</td>\n",
       "      <td>185.000000</td>\n",
       "      <td>3750.000000</td>\n",
       "    </tr>\n",
       "    <tr>\n",
       "      <th>mean</th>\n",
       "      <td>5917.488000</td>\n",
       "      <td>0.064865</td>\n",
       "      <td>0.064267</td>\n",
       "    </tr>\n",
       "    <tr>\n",
       "      <th>std</th>\n",
       "      <td>10925.524011</td>\n",
       "      <td>0.246956</td>\n",
       "      <td>0.245260</td>\n",
       "    </tr>\n",
       "    <tr>\n",
       "      <th>min</th>\n",
       "      <td>3490.000000</td>\n",
       "      <td>0.000000</td>\n",
       "      <td>0.000000</td>\n",
       "    </tr>\n",
       "    <tr>\n",
       "      <th>25%</th>\n",
       "      <td>3957.250000</td>\n",
       "      <td>0.000000</td>\n",
       "      <td>0.000000</td>\n",
       "    </tr>\n",
       "    <tr>\n",
       "      <th>50%</th>\n",
       "      <td>4619.000000</td>\n",
       "      <td>0.000000</td>\n",
       "      <td>0.000000</td>\n",
       "    </tr>\n",
       "    <tr>\n",
       "      <th>75%</th>\n",
       "      <td>5789.500000</td>\n",
       "      <td>0.000000</td>\n",
       "      <td>0.000000</td>\n",
       "    </tr>\n",
       "    <tr>\n",
       "      <th>max</th>\n",
       "      <td>329664.000000</td>\n",
       "      <td>1.000000</td>\n",
       "      <td>1.000000</td>\n",
       "    </tr>\n",
       "  </tbody>\n",
       "</table>\n",
       "</div>"
      ],
      "text/plain": [
       "           DebtRatio  MonthlyIncome  SeriousDlqin2yrs\n",
       "count    3750.000000     185.000000       3750.000000\n",
       "mean     5917.488000       0.064865          0.064267\n",
       "std     10925.524011       0.246956          0.245260\n",
       "min      3490.000000       0.000000          0.000000\n",
       "25%      3957.250000       0.000000          0.000000\n",
       "50%      4619.000000       0.000000          0.000000\n",
       "75%      5789.500000       0.000000          0.000000\n",
       "max    329664.000000       1.000000          1.000000"
      ]
     },
     "execution_count": 32,
     "metadata": {},
     "output_type": "execute_result"
    }
   ],
   "source": [
    "df.loc[df[\"DebtRatio\"] > df[\"DebtRatio\"].quantile(0.975)][[\"DebtRatio\", \"MonthlyIncome\", \"SeriousDlqin2yrs\"]].describe()"
   ]
  },
  {
   "cell_type": "code",
   "execution_count": 33,
   "id": "inclusive-heather",
   "metadata": {},
   "outputs": [
    {
     "data": {
      "text/plain": [
       "164"
      ]
     },
     "execution_count": 33,
     "metadata": {},
     "output_type": "execute_result"
    }
   ],
   "source": [
    "len(df[(df[\"DebtRatio\"] > df[\"DebtRatio\"].quantile(0.975)) & (df['SeriousDlqin2yrs'] == df['MonthlyIncome'])])"
   ]
  },
  {
   "cell_type": "markdown",
   "id": "progressive-seeking",
   "metadata": {},
   "source": [
    "#### Monthly Income"
   ]
  },
  {
   "cell_type": "code",
   "execution_count": 18,
   "id": "phantom-trail",
   "metadata": {},
   "outputs": [
    {
     "data": {
      "text/plain": [
       "<AxesSubplot:xlabel='MonthlyIncome', ylabel='Count'>"
      ]
     },
     "execution_count": 18,
     "metadata": {},
     "output_type": "execute_result"
    },
    {
     "data": {
      "image/png": "[encoded data removed]",
      "text/plain": [
       "<Figure size 432x288 with 1 Axes>"
      ]
     },
     "metadata": {
      "needs_background": "light"
     },
     "output_type": "display_data"
    }
   ],
   "source": [
    "sns.histplot(df[\"MonthlyIncome\"].dropna())"
   ]
  },
  {
   "cell_type": "code",
   "execution_count": 19,
   "id": "hungry-intelligence",
   "metadata": {},
   "outputs": [
    {
     "data": {
      "text/plain": [
       "count    1.202690e+05\n",
       "mean     6.670221e+03\n",
       "std      1.438467e+04\n",
       "min      0.000000e+00\n",
       "25%      3.400000e+03\n",
       "50%      5.400000e+03\n",
       "75%      8.249000e+03\n",
       "max      3.008750e+06\n",
       "Name: MonthlyIncome, dtype: float64"
      ]
     },
     "execution_count": 19,
     "metadata": {},
     "output_type": "execute_result"
    }
   ],
   "source": [
    "df[\"MonthlyIncome\"].dropna().describe()"
   ]
  },
  {
   "cell_type": "code",
   "execution_count": 21,
   "id": "responsible-apache",
   "metadata": {},
   "outputs": [
    {
     "data": {
      "text/plain": [
       "<AxesSubplot:xlabel='MonthlyIncome', ylabel='Count'>"
      ]
     },
     "execution_count": 21,
     "metadata": {},
     "output_type": "execute_result"
    },
    {
     "data": {
      "image/png": "[encoded data removed]",
      "text/plain": [
       "<Figure size 432x288 with 1 Axes>"
      ]
     },
     "metadata": {
      "needs_background": "light"
     },
     "output_type": "display_data"
    }
   ],
   "source": [
    "sns.histplot(df.loc[df[\"DebtRatio\"] <= df[\"DebtRatio\"].quantile(0.975)][\"MonthlyIncome\"].dropna())"
   ]
  },
  {
   "cell_type": "markdown",
   "id": "manufactured-style",
   "metadata": {},
   "source": [
    "#### NumberOfOpenCreditLinesAndLoans"
   ]
  },
  {
   "cell_type": "code",
   "execution_count": 22,
   "id": "soviet-passage",
   "metadata": {},
   "outputs": [
    {
     "data": {
      "text/plain": [
       "count    150000.000000\n",
       "mean          8.452760\n",
       "std           5.145951\n",
       "min           0.000000\n",
       "25%           5.000000\n",
       "50%           8.000000\n",
       "75%          11.000000\n",
       "max          58.000000\n",
       "Name: NumberOfOpenCreditLinesAndLoans, dtype: float64"
      ]
     },
     "execution_count": 22,
     "metadata": {},
     "output_type": "execute_result"
    }
   ],
   "source": [
    "df[\"NumberOfOpenCreditLinesAndLoans\"].describe()"
   ]
  },
  {
   "cell_type": "code",
   "execution_count": 23,
   "id": "hourly-lindsay",
   "metadata": {},
   "outputs": [
    {
     "data": {
      "text/plain": [
       "6     13614\n",
       "7     13245\n",
       "5     12931\n",
       "8     12562\n",
       "4     11609\n",
       "9     11355\n",
       "10     9624\n",
       "3      9058\n",
       "11     8321\n",
       "12     7005\n",
       "2      6666\n",
       "13     5667\n",
       "14     4546\n",
       "1      4438\n",
       "15     3645\n",
       "16     3000\n",
       "17     2370\n",
       "0      1888\n",
       "18     1874\n",
       "19     1433\n",
       "20     1169\n",
       "21      864\n",
       "22      685\n",
       "23      533\n",
       "24      422\n",
       "25      337\n",
       "26      239\n",
       "27      194\n",
       "28      150\n",
       "29      114\n",
       "30       88\n",
       "31       74\n",
       "32       52\n",
       "33       47\n",
       "34       35\n",
       "35       27\n",
       "36       18\n",
       "38       13\n",
       "40       10\n",
       "39        9\n",
       "42        8\n",
       "43        8\n",
       "45        8\n",
       "37        7\n",
       "48        6\n",
       "49        4\n",
       "41        4\n",
       "54        4\n",
       "46        3\n",
       "52        3\n",
       "57        2\n",
       "56        2\n",
       "44        2\n",
       "51        2\n",
       "50        2\n",
       "47        2\n",
       "53        1\n",
       "58        1\n",
       "Name: NumberOfOpenCreditLinesAndLoans, dtype: int64"
      ]
     },
     "execution_count": 23,
     "metadata": {},
     "output_type": "execute_result"
    }
   ],
   "source": [
    "df[\"NumberOfOpenCreditLinesAndLoans\"].value_counts()"
   ]
  },
  {
   "cell_type": "code",
   "execution_count": 25,
   "id": "insured-referral",
   "metadata": {},
   "outputs": [
    {
     "data": {
      "text/plain": [
       "<AxesSubplot:xlabel='NumberOfOpenCreditLinesAndLoans', ylabel='Count'>"
      ]
     },
     "execution_count": 25,
     "metadata": {},
     "output_type": "execute_result"
    },
    {
     "data": {
      "image/png": "[encoded data removed]",
      "text/plain": [
       "<Figure size 432x288 with 1 Axes>"
      ]
     },
     "metadata": {
      "needs_background": "light"
     },
     "output_type": "display_data"
    }
   ],
   "source": [
    "sns.histplot(df[\"NumberOfOpenCreditLinesAndLoans\"])"
   ]
  },
  {
   "cell_type": "markdown",
   "id": "sealed-windsor",
   "metadata": {},
   "source": [
    "#### NumberRealEstateLoansOrLines"
   ]
  },
  {
   "cell_type": "code",
   "execution_count": 26,
   "id": "welsh-stadium",
   "metadata": {},
   "outputs": [
    {
     "data": {
      "text/plain": [
       "count    150000.000000\n",
       "mean          1.018240\n",
       "std           1.129771\n",
       "min           0.000000\n",
       "25%           0.000000\n",
       "50%           1.000000\n",
       "75%           2.000000\n",
       "max          54.000000\n",
       "Name: NumberRealEstateLoansOrLines, dtype: float64"
      ]
     },
     "execution_count": 26,
     "metadata": {},
     "output_type": "execute_result"
    }
   ],
   "source": [
    "df[\"NumberRealEstateLoansOrLines\"].describe()"
   ]
  },
  {
   "cell_type": "code",
   "execution_count": 27,
   "id": "helpful-egypt",
   "metadata": {},
   "outputs": [
    {
     "data": {
      "text/plain": [
       "0     56188\n",
       "1     52338\n",
       "2     31522\n",
       "3      6300\n",
       "4      2170\n",
       "5       689\n",
       "6       320\n",
       "7       171\n",
       "8        93\n",
       "9        78\n",
       "10       37\n",
       "11       23\n",
       "12       18\n",
       "13       15\n",
       "15        7\n",
       "14        7\n",
       "16        4\n",
       "17        4\n",
       "25        3\n",
       "18        2\n",
       "19        2\n",
       "20        2\n",
       "23        2\n",
       "21        1\n",
       "26        1\n",
       "29        1\n",
       "32        1\n",
       "54        1\n",
       "Name: NumberRealEstateLoansOrLines, dtype: int64"
      ]
     },
     "execution_count": 27,
     "metadata": {},
     "output_type": "execute_result"
    }
   ],
   "source": [
    "df[\"NumberRealEstateLoansOrLines\"].value_counts()"
   ]
  },
  {
   "cell_type": "code",
   "execution_count": 28,
   "id": "forward-belgium",
   "metadata": {},
   "outputs": [
    {
     "data": {
      "text/plain": [
       "<AxesSubplot:xlabel='NumberRealEstateLoansOrLines', ylabel='count'>"
      ]
     },
     "execution_count": 28,
     "metadata": {},
     "output_type": "execute_result"
    },
    {
     "data": {
      "image/png": "[encoded data removed]",
      "text/plain": [
       "<Figure size 432x288 with 1 Axes>"
      ]
     },
     "metadata": {
      "needs_background": "light"
     },
     "output_type": "display_data"
    }
   ],
   "source": [
    "sns.countplot(x=\"NumberRealEstateLoansOrLines\", data=df.loc[df[\"NumberRealEstateLoansOrLines\"] <= 10])"
   ]
  },
  {
   "cell_type": "code",
   "execution_count": 29,
   "id": "differential-presentation",
   "metadata": {},
   "outputs": [
    {
     "data": {
      "text/plain": [
       "count    38.000000\n",
       "mean      0.210526\n",
       "std       0.413155\n",
       "min       0.000000\n",
       "25%       0.000000\n",
       "50%       0.000000\n",
       "75%       0.000000\n",
       "max       1.000000\n",
       "Name: SeriousDlqin2yrs, dtype: float64"
      ]
     },
     "execution_count": 29,
     "metadata": {},
     "output_type": "execute_result"
    }
   ],
   "source": [
    "df.loc[df[\"NumberRealEstateLoansOrLines\"] > 13][\"SeriousDlqin2yrs\"].describe()"
   ]
  },
  {
   "cell_type": "markdown",
   "id": "secure-payment",
   "metadata": {},
   "source": [
    "#### Number of Dependents"
   ]
  },
  {
   "cell_type": "code",
   "execution_count": 19,
   "id": "increased-transaction",
   "metadata": {},
   "outputs": [
    {
     "data": {
      "text/plain": [
       "count    146076.000000\n",
       "mean          0.757222\n",
       "std           1.115086\n",
       "min           0.000000\n",
       "25%           0.000000\n",
       "50%           0.000000\n",
       "75%           1.000000\n",
       "max          20.000000\n",
       "Name: NumberOfDependents, dtype: float64"
      ]
     },
     "execution_count": 19,
     "metadata": {},
     "output_type": "execute_result"
    }
   ],
   "source": [
    "df[\"NumberOfDependents\"].describe()"
   ]
  },
  {
   "cell_type": "code",
   "execution_count": 20,
   "id": "stretch-broadcasting",
   "metadata": {},
   "outputs": [
    {
     "data": {
      "text/plain": [
       "0.0     86902\n",
       "1.0     26316\n",
       "2.0     19522\n",
       "3.0      9483\n",
       "4.0      2862\n",
       "5.0       746\n",
       "6.0       158\n",
       "7.0        51\n",
       "8.0        24\n",
       "9.0         5\n",
       "10.0        5\n",
       "13.0        1\n",
       "20.0        1\n",
       "Name: NumberOfDependents, dtype: int64"
      ]
     },
     "execution_count": 20,
     "metadata": {},
     "output_type": "execute_result"
    }
   ],
   "source": [
    "df[\"NumberOfDependents\"].value_counts()"
   ]
  },
  {
   "cell_type": "code",
   "execution_count": 21,
   "id": "changing-invite",
   "metadata": {},
   "outputs": [
    {
     "data": {
      "text/plain": [
       "<AxesSubplot:xlabel='NumberOfDependents', ylabel='count'>"
      ]
     },
     "execution_count": 21,
     "metadata": {},
     "output_type": "execute_result"
    },
    {
     "data": {
      "image/png": "[encoded data removed]",
      "text/plain": [
       "<Figure size 432x288 with 1 Axes>"
      ]
     },
     "metadata": {
      "needs_background": "light"
     },
     "output_type": "display_data"
    }
   ],
   "source": [
    "sns.countplot(x=\"NumberOfDependents\", data=df.loc[df[\"NumberOfDependents\"] <= 10])"
   ]
  },
  {
   "cell_type": "markdown",
   "id": "greek-circle",
   "metadata": {},
   "source": [
    "### Results\n",
    "\n",
    "- Remove samples with values of DebtRatio above its 97.5 percentile\n",
    "- RevolvingUtilizationOfUnsecuredLines < 13\n",
    "- Set NumberOfTimes90DaysLate <= 17\n",
    "- Impute MonthlyIncome with its median\n",
    "- Impute NumberOfDependents with its mode"
   ]
  }
 ],
 "metadata": {
  "kernelspec": {
   "display_name": "Python 3",
   "language": "python",
   "name": "python3"
  },
  "language_info": {
   "codemirror_mode": {
    "name": "ipython",
    "version": 3
   },
   "file_extension": ".py",
   "mimetype": "text/x-python",
   "name": "python",
   "nbconvert_exporter": "python",
   "pygments_lexer": "ipython3",
   "version": "3.7.9"
  }
 },
 "nbformat": 4,
 "nbformat_minor": 5
}
